{
 "cells": [
  {
   "cell_type": "code",
   "execution_count": 32,
   "id": "d4a7d842",
   "metadata": {},
   "outputs": [],
   "source": [
    "import torch\n",
    "import numpy as np\n",
    "import pickle\n",
    "from openai import OpenAI\n",
    "import random\n",
    "from tqdm import tqdm\n",
    "import matplotlib.pyplot as plt\n",
    "from collections import defaultdict\n",
    "from sklearn.metrics import roc_curve, precision_recall_curve, auc\n",
    "import matplotlib.pyplot as plt\n",
    "import numpy as np"
   ]
  },
  {
   "cell_type": "code",
   "execution_count": 33,
   "id": "ae253e87",
   "metadata": {},
   "outputs": [],
   "source": [
    "torch.manual_seed(42)\n",
    "np.random.seed(42)\n",
    "random.seed(42)"
   ]
  },
  {
   "cell_type": "code",
   "execution_count": 34,
   "id": "c6258f88",
   "metadata": {},
   "outputs": [],
   "source": [
    "with open(\"data/190325_data.pkl\", \"rb\") as f:\n",
    "    chat_data = pickle.load(f)\n",
    "    \n",
    "# Remove service chat\n",
    "del chat_data[-1000]"
   ]
  },
  {
   "cell_type": "code",
   "execution_count": 35,
   "id": "c7c9e8af",
   "metadata": {},
   "outputs": [
    {
     "name": "stdout",
     "output_type": "stream",
     "text": [
      "22696\n",
      "22696\n"
     ]
    }
   ],
   "source": [
    "messages = []\n",
    "labels = []\n",
    "game_ids = []\n",
    "user_ids = []\n",
    "languages = []\n",
    "for game_id, game_data in chat_data.items():\n",
    "    for message in game_data[\"messages\"]:\n",
    "        if message[\"userID\"] == \"GameMaster\":\n",
    "            if \"won\" in message[\"message\"] or \"surrendered\" in message[\"message\"] or \"canceled\" in message[\"message\"] or \"lost\" in message[\"message\"] or \"timed out\" in message[\"message\"] or \"disconnected\" in message[\"message\"]:\n",
    "                break\n",
    "            else:\n",
    "                continue\n",
    "        messages.append(message[\"message\"])\n",
    "        labels.append([int(not message[\"botID\"]), message[\"botID\"]])\n",
    "        game_ids.append(message[\"gameID\"])\n",
    "        user_ids.append(message[\"userID\"])\n",
    "        if game_data[\"language\"] is None:\n",
    "            languages.append(\"en\")\n",
    "        else:\n",
    "            languages.append(game_data[\"language\"])\n",
    "        \n",
    "print(len(messages))\n",
    "print(len(labels))"
   ]
  },
  {
   "cell_type": "code",
   "execution_count": 5,
   "id": "19f8af94",
   "metadata": {},
   "outputs": [],
   "source": [
    "class Classifier:\n",
    "    def __init__(self, path_to_state_dict):\n",
    "        class MessageClassifier(torch.nn.Module):\n",
    "            def __init__(self, input_size, hidden_sizes, output_size, dropout=0.75):\n",
    "                super().__init__()\n",
    "                self.activation = torch.nn.ReLU()\n",
    "                layers = []\n",
    "                current_size = input_size\n",
    "                for hidden_size in hidden_sizes:\n",
    "                    layers.append(torch.nn.Linear(current_size, hidden_size))\n",
    "                    layers.append(torch.nn.BatchNorm1d(hidden_size))\n",
    "                    layers.append(torch.nn.ReLU())\n",
    "                    layers.append(torch.nn.Dropout(dropout))\n",
    "                    current_size = hidden_size\n",
    "                layers.append(torch.nn.Linear(current_size, output_size))\n",
    "        \n",
    "                self.model = torch.nn.Sequential(*layers)\n",
    "        \n",
    "            def forward(self, x):\n",
    "                return self.model(x)\n",
    "\n",
    "        \n",
    "        self.device = \"cuda\" if torch.cuda.is_available() else \"cpu\"\n",
    "        self.client = OpenAI(\n",
    "                            api_key=\"EMPTY\",\n",
    "                            base_url=\"http://localhost:8000/v1\"\n",
    "                        )\n",
    "        self.embedding_model = \"intfloat/multilingual-e5-large-instruct\"\n",
    "\n",
    "        self.classifier = MessageClassifier(1024, [512, 128, 32], 2, dropout=0.75)\n",
    "        self.classifier.to(self.device)\n",
    "        self.classifier.load_state_dict(torch.load(path_to_state_dict, weights_only=True))\n",
    "        self.classifier.eval()\n",
    "\n",
    "    def predict(self, message: str):\n",
    "        # Classifies a message as human (negative score) or bot (positive score).\n",
    "        embedding = torch.tensor(self.client.embeddings.create(input = [message], model=self.embedding_model).data[0].embedding)\n",
    "        pred = self.classifier(embedding.unsqueeze(dim=0)).squeeze()\n",
    "        return torch.tanh(pred[1]-pred[0]).item()\n",
    "            "
   ]
  },
  {
   "cell_type": "code",
   "execution_count": 6,
   "id": "9ef36359",
   "metadata": {},
   "outputs": [],
   "source": [
    "classifier = Classifier(\"models/run20.pth\")"
   ]
  },
  {
   "cell_type": "code",
   "execution_count": 7,
   "id": "60efd433",
   "metadata": {},
   "outputs": [],
   "source": [
    "messages_with_how_about_you= []\n",
    "user_ids_with_how_about_you = []\n",
    "messages_with_hbu = []\n",
    "user_ids_with_hbu = []\n",
    "for message, user_id in zip(messages, user_ids):\n",
    "    if \"how about you\" in message:\n",
    "        messages_with_how_about_you.append(message)\n",
    "        user_ids_with_how_about_you.append(user_id)\n",
    "    \n",
    "    if \"hbu\" in message:\n",
    "        messages_with_hbu.append(message)\n",
    "        user_ids_with_hbu.append(user_id)"
   ]
  },
  {
   "cell_type": "code",
   "execution_count": 8,
   "id": "853a2f6c",
   "metadata": {},
   "outputs": [
    {
     "name": "stdout",
     "output_type": "stream",
     "text": [
      "im good how about you\n",
      "0.9780312776565552\n",
      "After changing\n",
      "im good hbu\n",
      "-0.9999995827674866\n",
      "im from canada how about you purple\n",
      "0.9857386946678162\n",
      "After changing\n",
      "im from canada hbu purple\n",
      "0.4484865367412567\n"
     ]
    }
   ],
   "source": [
    "for user_id, message in zip(user_ids_with_how_about_you[-3:-1], messages_with_how_about_you[-3:-1]):\n",
    "    print(message)\n",
    "    print(classifier.predict(message))\n",
    "    print(\"After changing\")\n",
    "    print(message.replace(\"how about you\", \"hbu\"))\n",
    "    print(classifier.predict(message.replace(\"how about you\", \"hbu\")))"
   ]
  },
  {
   "cell_type": "code",
   "execution_count": 9,
   "id": "16832e13",
   "metadata": {},
   "outputs": [
    {
     "name": "stdout",
     "output_type": "stream",
     "text": [
      "hbu\n",
      "-1.0\n",
      "After changing\n",
      "how about you\n",
      "-0.815436065196991\n",
      "doing good hbu\n",
      "-0.9998932480812073\n",
      "After changing\n",
      "doing good how about you\n",
      "0.9895229339599609\n"
     ]
    }
   ],
   "source": [
    "for user_id, message in zip(user_ids_with_hbu[-2:], messages_with_hbu[-2:]):\n",
    "    print(message)\n",
    "    print(classifier.predict(message))\n",
    "    print(\"After changing\")\n",
    "    print(message.replace(\"hbu\", \"how about you\"))\n",
    "    print(classifier.predict(message.replace(\"hbu\", \"how about you\")))"
   ]
  },
  {
   "cell_type": "code",
   "execution_count": 10,
   "id": "4a28ada8",
   "metadata": {},
   "outputs": [
    {
     "name": "stdout",
     "output_type": "stream",
     "text": [
      "So what's the plan then?\n",
      "0.9997361302375793\n",
      "After changing\n",
      "hey So what's the plan then?\n",
      "0.9984922409057617\n",
      "Not really, maybe 30 minutes?\n",
      "-0.45445773005485535\n",
      "After changing\n",
      "hey Not really, maybe 30 minutes?\n",
      "-0.8108595013618469\n",
      "so who's bored rn?\n",
      "0.7098991870880127\n",
      "After changing\n",
      "hey so who's bored rn?\n",
      "0.9952754974365234\n",
      "lol bots?\n",
      "0.9592686295509338\n",
      "After changing\n",
      "hey lol bots?\n",
      "-0.48203447461128235\n"
     ]
    }
   ],
   "source": [
    "random.seed(42)\n",
    "n = 0\n",
    "for idx in range(len(messages)-1, 0, -1):\n",
    "    if user_ids[idx] == '0':\n",
    "        if len(messages[idx].split(\" \")) > 5:\n",
    "            continue\n",
    "        if messages[idx].split(\" \")[0] == \"hey\" or messages[idx].split(\" \")[0] == \"hey,\":\n",
    "            continue\n",
    "        if messages[idx][-1] != \"?\":\n",
    "            continue\n",
    "        print(messages[idx])\n",
    "        print(classifier.predict(messages[idx]))\n",
    "        print(\"After changing\")\n",
    "        print(f\"hey {messages[idx]}\")\n",
    "        print(classifier.predict(f\"hey {messages[idx]}\"))\n",
    "        n += 1\n",
    "    if n == 4:\n",
    "        break"
   ]
  },
  {
   "cell_type": "code",
   "execution_count": 11,
   "id": "6fe0ba6f",
   "metadata": {},
   "outputs": [],
   "source": [
    "def evaluate_on_old_games(classifier, threshold=1):\n",
    "    with open(\"data/190325_data.pkl\", \"rb\") as f:\n",
    "        chat_data = pickle.load(f)\n",
    "\n",
    "    with open(\"data/games_not_trained_on.pkl\", \"rb\") as f:\n",
    "        val_games = pickle.load(f)\n",
    "\n",
    "    true_positives = 0\n",
    "    false_positives = 0\n",
    "    false_game_ids = []\n",
    "    false_negative = 0\n",
    "\n",
    "    for game_id in tqdm(val_games, desc=\"Evaluating\", total=len(val_games)):\n",
    "        game = chat_data[game_id]\n",
    "        player_scores = defaultdict(float)\n",
    "        \n",
    "        for message in game[\"messages\"]:\n",
    "            if message[\"userID\"] == \"GameMaster\":\n",
    "                if \"won\" in message[\"message\"] or \"surrendered\" in message[\"message\"] or \"canceled\" in message[\"message\"] or \"lost\" in message[\"message\"] or \"timed out\" in message[\"message\"] or \"disconnected\" in message[\"message\"]:\n",
    "                    break\n",
    "                else:\n",
    "                    continue\n",
    "            else:\n",
    "                if message[\"botID\"]:\n",
    "                    player_scores[\"bot\"] += classifier.predict(message[\"message\"])\n",
    "                else:\n",
    "                    player_scores[message[\"color\"]] += classifier.predict(message[\"message\"])\n",
    "\n",
    "        colors = list(player_scores.keys())\n",
    "        if \"bot\" not in player_scores.keys():\n",
    "            player_scores[\"bot\"] = 0\n",
    "        while len(player_scores.keys()) < 3:\n",
    "            player_scores[f\"simulated_player_{3-len(player_scores.keys())}\"] = 0\n",
    "            \n",
    "        colors = list(player_scores.keys())\n",
    "        for player in colors:\n",
    "            if player == \"bot\":\n",
    "                continue\n",
    "\n",
    "            bot_score = player_scores[\"bot\"]\n",
    "            human_score = player_scores[player]\n",
    "\n",
    "            if bot_score - human_score > threshold:\n",
    "                # Classifier would accuse the bot\n",
    "                true_positives += 1\n",
    "            elif human_score - bot_score > threshold:\n",
    "                # Classifier would accuse a human\n",
    "                false_positives += 1\n",
    "                false_game_ids.append(game_id)\n",
    "            else:\n",
    "                # No accusation\n",
    "                false_negative += 1\n",
    "                false_game_ids.append(game_id)\n",
    "    return true_positives, false_positives, false_negative, false_game_ids"
   ]
  },
  {
   "cell_type": "code",
   "execution_count": 12,
   "id": "4443be7b",
   "metadata": {},
   "outputs": [],
   "source": [
    "def get_player_scores(classifier, threshold=1):\n",
    "    with open(\"data/190325_data.pkl\", \"rb\") as f:\n",
    "        chat_data = pickle.load(f)\n",
    "\n",
    "    with open(\"data/games_not_trained_on.pkl\", \"rb\") as f:\n",
    "        val_games = pickle.load(f)\n",
    "\n",
    "    player_scores_per_game = []\n",
    "    for game_id in tqdm(val_games, desc=\"Evaluating\", total=len(val_games)):\n",
    "        game = chat_data[game_id]\n",
    "        player_scores = defaultdict(float)\n",
    "        \n",
    "        for message in game[\"messages\"]:\n",
    "            if message[\"userID\"] == \"GameMaster\":\n",
    "                if \"won\" in message[\"message\"] or \"surrendered\" in message[\"message\"] or \"canceled\" in message[\"message\"] or \"lost\" in message[\"message\"] or \"timed out\" in message[\"message\"] or \"disconnected\" in message[\"message\"]:\n",
    "                    break\n",
    "                else:\n",
    "                    continue\n",
    "            else:\n",
    "                if message[\"botID\"]:\n",
    "                    player_scores[\"bot\"] += classifier.predict(message[\"message\"])\n",
    "                else:\n",
    "                    player_scores[message[\"color\"]] += classifier.predict(message[\"message\"])        \n",
    "\n",
    "        if \"bot\" not in player_scores.keys():\n",
    "            player_scores[\"bot\"] = 0\n",
    "        while len(player_scores.keys()) < 3:\n",
    "            player_scores[f\"simulated_player_{3-len(player_scores.keys())}\"] = 0\n",
    "        \n",
    "        player_scores_per_game.append(player_scores)\n",
    "    return player_scores_per_game, val_games"
   ]
  },
  {
   "cell_type": "code",
   "execution_count": 13,
   "id": "9b1a6ea1",
   "metadata": {},
   "outputs": [
    {
     "name": "stderr",
     "output_type": "stream",
     "text": [
      "Evaluating: 100%|██████████| 228/228 [05:02<00:00,  1.33s/it]\n"
     ]
    }
   ],
   "source": [
    "tp, fp, fn, false_game_ids_threshold_3= evaluate_on_old_games(classifier, threshold=3)"
   ]
  },
  {
   "cell_type": "code",
   "execution_count": 14,
   "id": "3fe5c7c3",
   "metadata": {},
   "outputs": [],
   "source": [
    "precision = tp / (tp + fp) if (tp + fp) > 0 else 0.0\n",
    "recall = tp / (tp + fn) if (tp + fn) > 0 else 0.0\n",
    "f1_score = 2 * precision * recall / (precision + recall) if (precision + recall) > 0 else 0.0\n",
    "false_discovery_rate = fp / (tp + fp) if (tp + fp) > 0 else 0.0\n",
    "miss_rate = fn / (tp + fn) if (tp + fn) > 0 else 0.0"
   ]
  },
  {
   "cell_type": "code",
   "execution_count": 15,
   "id": "8ec51c66",
   "metadata": {},
   "outputs": [
    {
     "name": "stdout",
     "output_type": "stream",
     "text": [
      "True Positives (TP):          326\n",
      "False Positives (FP):         0\n",
      "False Negatives (FN):         130\n",
      "\n",
      "Precision:                    1.0000\n",
      "Recall (TPR):                 0.7149\n",
      "F1 Score:                     0.8338\n",
      "False Discovery Rate (FDR):   0.0000\n",
      "Miss Rate (FNR):              0.2851\n"
     ]
    }
   ],
   "source": [
    "print(f\"True Positives (TP):          {tp}\")\n",
    "print(f\"False Positives (FP):         {fp}\")\n",
    "print(f\"False Negatives (FN):         {fn}\")\n",
    "print()\n",
    "print(f\"Precision:                    {precision:.4f}\")\n",
    "print(f\"Recall (TPR):                 {recall:.4f}\")\n",
    "print(f\"F1 Score:                     {f1_score:.4f}\")\n",
    "print(f\"False Discovery Rate (FDR):   {false_discovery_rate:.4f}\")\n",
    "print(f\"Miss Rate (FNR):              {miss_rate:.4f}\")"
   ]
  },
  {
   "cell_type": "code",
   "execution_count": 16,
   "id": "80cca4bb",
   "metadata": {},
   "outputs": [
    {
     "name": "stderr",
     "output_type": "stream",
     "text": [
      "Evaluating: 100%|██████████| 228/228 [05:03<00:00,  1.33s/it]\n"
     ]
    }
   ],
   "source": [
    "tp, fp, fn, false_game_ids_threshold_1 = evaluate_on_old_games(classifier, threshold=1)"
   ]
  },
  {
   "cell_type": "code",
   "execution_count": 17,
   "id": "1731c377",
   "metadata": {},
   "outputs": [],
   "source": [
    "precision = tp / (tp + fp) if (tp + fp) > 0 else 0.0\n",
    "recall = tp / (tp + fn) if (tp + fn) > 0 else 0.0\n",
    "f1_score = 2 * precision * recall / (precision + recall) if (precision + recall) > 0 else 0.0\n",
    "false_discovery_rate = fp / (tp + fp) if (tp + fp) > 0 else 0.0\n",
    "miss_rate = fn / (tp + fn) if (tp + fn) > 0 else 0.0"
   ]
  },
  {
   "cell_type": "code",
   "execution_count": 18,
   "id": "06aa4a74",
   "metadata": {},
   "outputs": [
    {
     "name": "stdout",
     "output_type": "stream",
     "text": [
      "True Positives (TP):          413\n",
      "False Positives (FP):         2\n",
      "False Negatives (FN):         41\n",
      "\n",
      "Precision:                    0.9952\n",
      "Recall (TPR):                 0.9097\n",
      "F1 Score:                     0.9505\n",
      "False Discovery Rate (FDR):   0.0048\n",
      "Miss Rate (FNR):              0.0903\n"
     ]
    }
   ],
   "source": [
    "print(f\"True Positives (TP):          {tp}\")\n",
    "print(f\"False Positives (FP):         {fp}\")\n",
    "print(f\"False Negatives (FN):         {fn}\")\n",
    "print()\n",
    "print(f\"Precision:                    {precision:.4f}\")\n",
    "print(f\"Recall (TPR):                 {recall:.4f}\")\n",
    "print(f\"F1 Score:                     {f1_score:.4f}\")\n",
    "print(f\"False Discovery Rate (FDR):   {false_discovery_rate:.4f}\")\n",
    "print(f\"Miss Rate (FNR):              {miss_rate:.4f}\")"
   ]
  },
  {
   "cell_type": "code",
   "execution_count": 19,
   "id": "6dd48c39",
   "metadata": {},
   "outputs": [],
   "source": [
    "with open(\"data/false_game_ids_threshold_1.pkl\", \"wb\") as f:\n",
    "    pickle.dump(false_game_ids_threshold_1, f)\n",
    "with open(\"data/false_game_ids_threshold_3.pkl\", \"wb\") as f:\n",
    "    pickle.dump(false_game_ids_threshold_3, f)"
   ]
  },
  {
   "cell_type": "code",
   "execution_count": 20,
   "id": "12806917",
   "metadata": {},
   "outputs": [
    {
     "name": "stderr",
     "output_type": "stream",
     "text": [
      "Evaluating: 100%|██████████| 228/228 [05:02<00:00,  1.33s/it]\n"
     ]
    }
   ],
   "source": [
    "player_scores_per_game, game_ids = get_player_scores(classifier)"
   ]
  },
  {
   "cell_type": "code",
   "execution_count": 21,
   "id": "6c3fc32a",
   "metadata": {},
   "outputs": [],
   "source": [
    "def evaluate_threshold_curve(player_scores_per_game):\n",
    "    thresholds = np.linspace(0, 5, 100)\n",
    "    precisions = []\n",
    "    recalls = []\n",
    "    f1_scores = []\n",
    "\n",
    "    for threshold in thresholds:\n",
    "        tp = 0\n",
    "        fp = 0\n",
    "        fn = 0\n",
    "\n",
    "        for scores in player_scores_per_game:\n",
    "            bot_score = scores[\"bot\"]\n",
    "            for player, human_score in scores.items():\n",
    "                if player == \"bot\":\n",
    "                    continue\n",
    "\n",
    "                if bot_score - human_score > threshold:\n",
    "                    tp += 1\n",
    "                elif human_score - bot_score > threshold:\n",
    "                    fp += 1\n",
    "                else:\n",
    "                    fn += 1\n",
    "\n",
    "        precision = tp / (tp + fp) if tp + fp > 0 else 0\n",
    "        recall = tp / (tp + fn) if tp + fn > 0 else 0\n",
    "        f1 = 2 * precision * recall / (precision + recall) if precision + recall > 0 else 0\n",
    "\n",
    "        precisions.append(precision)\n",
    "        recalls.append(recall)\n",
    "        f1_scores.append(f1)\n",
    "\n",
    "    plt.figure(figsize=(10, 6))\n",
    "    plt.plot(thresholds, precisions, label=\"Precision\", color='blue')\n",
    "    plt.plot(thresholds, recalls, label=\"Recall\", color='green')\n",
    "    plt.plot(thresholds, f1_scores, label=\"F1 Score\", color='red')\n",
    "    plt.xlabel(\"Threshold\")\n",
    "    plt.ylabel(\"Score\")\n",
    "    plt.title(\"Classifier Performance vs Threshold\")\n",
    "    plt.legend()\n",
    "    plt.grid(True)\n",
    "    plt.tight_layout()\n",
    "    plt.show()\n",
    "\n",
    "    return thresholds, precisions, recalls, f1_scores"
   ]
  },
  {
   "cell_type": "code",
   "execution_count": 22,
   "id": "60469622",
   "metadata": {},
   "outputs": [
    {
     "data": {
      "image/png": "[encoded data removed]",
      "text/plain": [
       "<Figure size 1000x600 with 1 Axes>"
      ]
     },
     "metadata": {},
     "output_type": "display_data"
    }
   ],
   "source": [
    "thresholds, precisions, recalls, f1_scores = evaluate_threshold_curve(player_scores_per_game)"
   ]
  },
  {
   "cell_type": "code",
   "execution_count": 23,
   "id": "aee0872b",
   "metadata": {},
   "outputs": [],
   "source": [
    "with open(\"data/val_games_player_scores.pkl\", \"wb\") as f:\n",
    "    pickle.dump(player_scores_per_game, f)"
   ]
  },
  {
   "cell_type": "code",
   "execution_count": 24,
   "id": "6c668ec7",
   "metadata": {},
   "outputs": [],
   "source": [
    "def evaluate_thresholds_roc(player_scores_per_game, threshold_list):\n",
    "    score_diffs = []\n",
    "    labels = []\n",
    "\n",
    "    for scores in player_scores_per_game:\n",
    "        bot_score = scores[\"bot\"]\n",
    "        for player, human_score in scores.items():\n",
    "            if player == \"bot\":\n",
    "                continue\n",
    "            score_diffs.append(bot_score - human_score)\n",
    "            labels.append(1)\n",
    "\n",
    "            score_diffs.append(human_score - bot_score)\n",
    "            labels.append(0)\n",
    "\n",
    "    score_diffs = np.array(score_diffs)\n",
    "    labels = np.array(labels)\n",
    "\n",
    "    fpr_base, tpr_base, _ = roc_curve(labels, score_diffs)\n",
    "    roc_auc_base = auc(fpr_base, tpr_base)\n",
    "\n",
    "    precision_base, recall_base, _ = precision_recall_curve(labels, score_diffs)\n",
    "    pr_auc_base = auc(recall_base, precision_base)\n",
    "\n",
    "    baseline_precision = np.mean(labels)\n",
    "\n",
    "    plt.figure(figsize=(14, 6))\n",
    "    plt.subplot(1, 2, 1)\n",
    "    plt.plot(fpr_base, tpr_base, label=f\"Base ROC AUC = {roc_auc_base:.4f}\", color=\"black\", linestyle=\"--\")\n",
    "    plt.plot([0, 1], [0, 1], linestyle=\":\", color=\"gray\", label=\"Random Classifier (Baseline)\")\n",
    "\n",
    "    for thresh in threshold_list:\n",
    "        preds = (score_diffs >= thresh).astype(int)\n",
    "        tp = np.sum((preds == 1) & (labels == 1))\n",
    "        fp = np.sum((preds == 1) & (labels == 0))\n",
    "        fn = np.sum((preds == 0) & (labels == 1))\n",
    "        tn = np.sum((preds == 0) & (labels == 0))\n",
    "\n",
    "        fpr = fp / (fp + tn) if (fp + tn) else 0\n",
    "        tpr = tp / (tp + fn) if (tp + fn) else 0\n",
    "        plt.scatter(fpr, tpr, label=f\"Threshold {thresh:.2f}\")\n",
    "\n",
    "    plt.xlabel(\"False Positive Rate\")\n",
    "    plt.ylabel(\"True Positive Rate\")\n",
    "    plt.title(\"ROC Curve\")\n",
    "    plt.legend()\n",
    "    plt.grid(True)\n",
    "\n",
    "\n",
    "\n",
    "    plt.subplot(1, 2, 2)\n",
    "    plt.plot(recall_base, precision_base, label=f\"Base PR AUC = {pr_auc_base:.4f}\", color=\"black\", linestyle=\"--\")\n",
    "    plt.axhline(y=baseline_precision, color=\"gray\", linestyle=\":\", label=f\"Baseline Precision = {baseline_precision:.2f}\")\n",
    "\n",
    "    for thresh in threshold_list:\n",
    "        preds = (score_diffs >= thresh).astype(int)\n",
    "        tp = np.sum((preds == 1) & (labels == 1))\n",
    "        fp = np.sum((preds == 1) & (labels == 0))\n",
    "        fn = np.sum((preds == 0) & (labels == 1))\n",
    "\n",
    "        precision = tp / (tp + fp) if (tp + fp) else 0\n",
    "        recall = tp / (tp + fn) if (tp + fn) else 0\n",
    "        plt.scatter(recall, precision, label=f\"Threshold {thresh:.2f}\")\n",
    "\n",
    "    plt.xlabel(\"Recall\")\n",
    "    plt.ylabel(\"Precision\")\n",
    "    plt.title(\"Precision-Recall Curve\")\n",
    "    plt.legend()\n",
    "    plt.ylim(-0.05, 1.05)\n",
    "    plt.grid(True)\n",
    "\n",
    "    plt.tight_layout()\n",
    "    plt.show()\n",
    "\n",
    "    return {\n",
    "        \"base_roc_auc\": roc_auc_base,\n",
    "        \"base_pr_auc\": pr_auc_base,\n",
    "        \"baseline_precision\": baseline_precision\n",
    "    }\n"
   ]
  },
  {
   "cell_type": "code",
   "execution_count": 25,
   "id": "3090f576",
   "metadata": {},
   "outputs": [
    {
     "data": {
      "image/png": "[encoded data removed]",
      "text/plain": [
       "<Figure size 1400x600 with 2 Axes>"
      ]
     },
     "metadata": {},
     "output_type": "display_data"
    }
   ],
   "source": [
    "output = evaluate_thresholds_roc(player_scores_per_game, [0, 1, 2, 3])"
   ]
  },
  {
   "cell_type": "code",
   "execution_count": 26,
   "id": "5fb73e47",
   "metadata": {},
   "outputs": [],
   "source": [
    "with open(\"data/false_game_ids_threshold_3.pkl\", \"rb\") as f:\n",
    "    wrong_indices = pickle.load(f)\n",
    "with open(\"data/games_not_trained_on.pkl\", \"rb\") as f:\n",
    "    val_games = list(pickle.load(f))"
   ]
  },
  {
   "cell_type": "code",
   "execution_count": 27,
   "id": "97cfca9d",
   "metadata": {},
   "outputs": [
    {
     "name": "stdout",
     "output_type": "stream",
     "text": [
      "4.0\n"
     ]
    }
   ],
   "source": [
    "lengths = 0\n",
    "long_wrong_games = []\n",
    "for game in wrong_indices:\n",
    "    game_messages = []\n",
    "    game_data = chat_data[game]\n",
    "    for message in game_data[\"messages\"]:\n",
    "        if message[\"userID\"] == \"GameMaster\":\n",
    "            if \"won\" in message[\"message\"] or \"surrendered\" in message[\"message\"] or \"canceled\" in message[\"message\"] or \"lost\" in message[\"message\"] or \"timed out\" in message[\"message\"] or \"disconnected\" in message[\"message\"]:\n",
    "                break\n",
    "            else:\n",
    "                continue\n",
    "        game_messages.append(message[\"message\"])\n",
    "    lengths += len(game_messages)\n",
    "    if len(game_messages) >= 10:\n",
    "        long_wrong_games.append(game)\n",
    "\n",
    "print(lengths/len(wrong_indices))"
   ]
  },
  {
   "cell_type": "code",
   "execution_count": 28,
   "id": "f2a08425",
   "metadata": {},
   "outputs": [
    {
     "name": "stdout",
     "output_type": "stream",
     "text": [
      "[3708, 3817, 3826, 3318, 3405, 2986, 2986, 3544]\n"
     ]
    }
   ],
   "source": [
    "print(long_wrong_games)"
   ]
  },
  {
   "cell_type": "code",
   "execution_count": 29,
   "id": "40ea204d",
   "metadata": {},
   "outputs": [
    {
     "name": "stdout",
     "output_type": "stream",
     "text": [
      "defaultdict(<class 'float'>, {'bot': 2.358270823955536, 'Purple': -3.0, 'simulated_player_1': 0})\n"
     ]
    }
   ],
   "source": [
    "print(player_scores_per_game[val_games.index(3708)])"
   ]
  },
  {
   "cell_type": "code",
   "execution_count": 30,
   "id": "5e222b6c",
   "metadata": {},
   "outputs": [
    {
     "name": "stdout",
     "output_type": "stream",
     "text": [
      "130\n"
     ]
    }
   ],
   "source": [
    "print(len(wrong_indices))"
   ]
  },
  {
   "cell_type": "code",
   "execution_count": 31,
   "id": "ffdf69c8",
   "metadata": {},
   "outputs": [
    {
     "data": {
      "text/plain": [
       "-0.8448495864868164"
      ]
     },
     "execution_count": 31,
     "metadata": {},
     "output_type": "execute_result"
    }
   ],
   "source": [
    "classifier.predict(\"how's everyone?\")"
   ]
  },
  {
   "cell_type": "code",
   "execution_count": null,
   "id": "c3a3476d",
   "metadata": {},
   "outputs": [],
   "source": []
  }
 ],
 "metadata": {
  "kernelspec": {
   "display_name": "python312",
   "language": "python",
   "name": "python3"
  },
  "language_info": {
   "codemirror_mode": {
    "name": "ipython",
    "version": 3
   },
   "file_extension": ".py",
   "mimetype": "text/x-python",
   "name": "python",
   "nbconvert_exporter": "python",
   "pygments_lexer": "ipython3",
   "version": "3.12.5"
  }
 },
 "nbformat": 4,
 "nbformat_minor": 5
}
